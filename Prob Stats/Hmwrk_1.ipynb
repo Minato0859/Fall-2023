{
 "cells": [
  {
   "cell_type": "markdown",
   "metadata": {},
   "source": [
    "# Problem 1"
   ]
  },
  {
   "cell_type": "markdown",
   "metadata": {},
   "source": [
    "## Die photo\n",
    "\n",
    "![Alt text](image.png)\n"
   ]
  },
  {
   "cell_type": "markdown",
   "metadata": {},
   "source": [
    "```\n",
    "\n",
    "\n",
    "\n",
    "\n",
    "\n",
    "\n",
    "\n",
    "\n",
    "\n",
    "\n",
    "\n",
    "\n",
    "\n",
    "\n",
    "\n",
    "\n",
    "\n",
    "\n",
    "\n",
    "\n",
    "\n",
    "\n",
    "\n",
    "\n",
    "\n",
    "```"
   ]
  },
  {
   "cell_type": "markdown",
   "metadata": {},
   "source": [
    "### 1.1\n",
    "\n",
    "If k is the number of faces in of my die, k = 6 in my case\n"
   ]
  },
  {
   "cell_type": "markdown",
   "metadata": {},
   "source": [
    "### 1.2\n",
    "\n",
    "I do believe my dice is fair for many reasons. It has 6 distinct sides (i.e. no repeated values), it has smooth edges and a consistent shape and material. Although the fact that each side has a different extent of engravings in it due to the shape of different numbers, I still believe it is a fair die."
   ]
  },
  {
   "cell_type": "markdown",
   "metadata": {},
   "source": [
    "### 1.3\n",
    "\n",
    "The following cell shows the experiment I ran with 301 independant trials. I created a string to which I kept adding to as I did my trial. I then converted the string into a list where each element is the result of each trial."
   ]
  },
  {
   "cell_type": "code",
   "execution_count": 17,
   "metadata": {},
   "outputs": [
    {
     "name": "stdout",
     "output_type": "stream",
     "text": [
      "[6, 1, 6, 4, 2, 4, 5, 6, 1, 5, 5, 6, 1, 3, 2, 3, 5, 1, 4, 3, 6, 6, 4, 4, 3, 3, 3, 5, 2, 4, 2, 2, 2, 5, 2, 2, 2, 6, 3, 6, 6, 1, 3, 5, 6, 4, 6, 1, 1, 2, 3, 1, 1, 3, 4, 5, 5, 4, 4, 4, 4, 3, 1, 3, 5, 6, 2, 6, 4, 5, 6, 1, 1, 6, 3, 2, 3, 1, 6, 1, 5, 1, 3, 5, 4, 5, 3, 4, 2, 3, 2, 5, 6, 1, 4, 6, 4, 6, 4, 3, 6, 6, 4, 3, 6, 2, 2, 1, 5, 2, 5, 1, 2, 5, 6, 6, 4, 4, 4, 4, 4, 2, 4, 5, 5, 4, 4, 4, 5, 5, 5, 3, 6, 6, 2, 3, 2, 6, 6, 4, 6, 5, 3, 4, 6, 2, 3, 2, 6, 6, 6, 3, 4, 3, 1, 3, 2, 5, 6, 4, 1, 2, 4, 2, 5, 2, 6, 1, 6, 4, 5, 5, 3, 3, 3, 3, 5, 4, 5, 5, 3, 6, 2, 3, 1, 6, 6, 4, 1, 1, 1, 1, 4, 5, 6, 4, 3, 4, 1, 2, 4, 3, 4, 5, 1, 5, 5, 5, 6, 4, 2, 5, 2, 3, 4, 2, 6, 3, 6, 4, 4, 4, 5, 6, 3, 4, 5, 2, 6, 1, 4, 5, 2, 3, 4, 2, 5, 1, 4, 1, 5, 1, 1, 3, 3, 2, 6, 2, 6, 5, 4, 1, 2, 5, 6, 5, 2, 4, 5, 6, 4, 2, 4, 1, 1, 3, 3, 5, 6, 6, 4, 6, 4, 3, 6, 5, 2, 3, 5, 3, 6, 3, 1, 3, 2, 5, 3, 5, 2, 4, 1, 4, 6, 5, 1, 2, 5, 5, 4, 5, 4]\n",
      "301\n"
     ]
    }
   ],
   "source": [
    "results = '''6164245615561323514366443335242225222636613564611231134554444313\n",
    "             5626456116323161513545342325614646436643622152512566444442455444\n",
    "             5553662326646534623266634313256412425261645533335455362316641111\n",
    "             4564341243451555642523426364445634526145234251415113326265412565\n",
    "             245642411335664643652353631325352414651255454'''\n",
    "             \n",
    "results_list = []\n",
    "total_count = len(results)\n",
    "\n",
    "for char in results:\n",
    "    results_list.append(int(char))\n",
    "\n",
    "\n",
    "print(results_list)\n",
    "print(total_count)"
   ]
  },
  {
   "cell_type": "markdown",
   "metadata": {},
   "source": [
    "In the following cell I numpy to return the unique values and their counts to which I then converted into a dictionary but itterating through both lists at the same time (unique_elements and counts) using the zip() funtction. The dictionairy name count_elements_dict has keys referring to the trial result and values referring to the frequency at which that results was observed."
   ]
  },
  {
   "cell_type": "code",
   "execution_count": 18,
   "metadata": {},
   "outputs": [
    {
     "name": "stdout",
     "output_type": "stream",
     "text": [
      "{1: 39, 2: 44, 3: 48, 4: 60, 5: 55, 6: 55}\n"
     ]
    }
   ],
   "source": [
    "import numpy as np\n",
    "\n",
    "unique_elements, counts = np.unique(results_list, return_counts=True)\n",
    "\n",
    "count_elements_dict = dict(zip(unique_elements, counts))\n",
    "\n",
    "print(count_elements_dict)"
   ]
  },
  {
   "cell_type": "code",
   "execution_count": 19,
   "metadata": {},
   "outputs": [
    {
     "name": "stdout",
     "output_type": "stream",
     "text": [
      "[0.13, 0.146, 0.159, 0.199, 0.183, 0.183]\n",
      "1.0000000000000002\n"
     ]
    }
   ],
   "source": [
    "probability = []\n",
    "for i in count_elements_dict.values():\n",
    "    probability.append(round(i/total_count, 3))\n",
    "\n",
    "print(probability)\n",
    "print(sum(probability))"
   ]
  },
  {
   "cell_type": "markdown",
   "metadata": {},
   "source": [
    "The zip(*data_dict.items()) expression unpacks the dictionary items into two tuples, one for keys and one for values.\n",
    "The * operator in the plt.bar() function call unpacks these tuples into separate arguments for the plt.bar() function."
   ]
  },
  {
   "cell_type": "code",
   "execution_count": 20,
   "metadata": {},
   "outputs": [
    {
     "data": {
      "image/png": "[encoded data removed]",
      "text/plain": [
       "<Figure size 640x480 with 1 Axes>"
      ]
     },
     "metadata": {},
     "output_type": "display_data"
    }
   ],
   "source": [
    "import matplotlib.pyplot as plt\n",
    "\n",
    "plt.bar(*zip(*count_elements_dict.items()))\n",
    "\n",
    "plt.title('Problem 1')\n",
    "plt.xlabel('Die')\n",
    "plt.ylabel('Frequency')\n",
    "\n",
    "plt.show()"
   ]
  },
  {
   "cell_type": "markdown",
   "metadata": {},
   "source": [
    "Overall the die seems to be quite fair. It has a higher occurence of 4 based off my trials, but it is important to keep in mind that I only had around 300 trials which is not enough to conclude with 100% confidence that it is an unfair die."
   ]
  },
  {
   "cell_type": "markdown",
   "metadata": {},
   "source": [
    "### 1.4\n",
    "\n",
    "In order to generate the table which had the columns of ['Observed Frequency', 'Expected Frequency', 'Squared Difference', 'Normalized Squared Difference'] I first had to create 2 functions. o_minus_e_sqrd computes the 'Squared Difference' for each k (1 through 6). It takes in the parameters of Oi and E (observed and expected frequencies) and itterates through them while applying the formula. The same concept applies to the 2nd function but this time it utilises a different formula. \n",
    "\n",
    "When creating the Data frame object I define the column 'Face' to have rows with values 1-6. \n",
    "The 'expected frequency' to be the values of each key of the dictionary count_elements_dict (dict with keys 1-6 and values being the frequency).\n",
    "The 'squared difference' column was made by calling the o_minus_e_sqrd() function with the first parameter being a list of the 'values' from the dictionary(count_elements_dict) and the second parameter being a list of 301/6 (i.e the expected frequency of a fair die rolled 301x)\n",
    "Same for 'normalised square difference' column"
   ]
  },
  {
   "cell_type": "code",
   "execution_count": 21,
   "metadata": {},
   "outputs": [
    {
     "data": {
      "text/html": [
       "<div>\n",
       "<style scoped>\n",
       "    .dataframe tbody tr th:only-of-type {\n",
       "        vertical-align: middle;\n",
       "    }\n",
       "\n",
       "    .dataframe tbody tr th {\n",
       "        vertical-align: top;\n",
       "    }\n",
       "\n",
       "    .dataframe thead th {\n",
       "        text-align: right;\n",
       "    }\n",
       "</style>\n",
       "<table border=\"1\" class=\"dataframe\">\n",
       "  <thead>\n",
       "    <tr style=\"text-align: right;\">\n",
       "      <th></th>\n",
       "      <th>Face</th>\n",
       "      <th>Observed Frequency</th>\n",
       "      <th>Expected Frequency</th>\n",
       "      <th>Squared Difference</th>\n",
       "      <th>Normalized Squared Difference</th>\n",
       "    </tr>\n",
       "  </thead>\n",
       "  <tbody>\n",
       "    <tr>\n",
       "      <th>0</th>\n",
       "      <td>1</td>\n",
       "      <td>39</td>\n",
       "      <td>50.166667</td>\n",
       "      <td>124.694444</td>\n",
       "      <td>2.485604</td>\n",
       "    </tr>\n",
       "    <tr>\n",
       "      <th>1</th>\n",
       "      <td>2</td>\n",
       "      <td>44</td>\n",
       "      <td>50.166667</td>\n",
       "      <td>38.027778</td>\n",
       "      <td>0.758029</td>\n",
       "    </tr>\n",
       "    <tr>\n",
       "      <th>2</th>\n",
       "      <td>3</td>\n",
       "      <td>48</td>\n",
       "      <td>50.166667</td>\n",
       "      <td>4.694444</td>\n",
       "      <td>0.093577</td>\n",
       "    </tr>\n",
       "    <tr>\n",
       "      <th>3</th>\n",
       "      <td>4</td>\n",
       "      <td>60</td>\n",
       "      <td>50.166667</td>\n",
       "      <td>96.694444</td>\n",
       "      <td>1.927464</td>\n",
       "    </tr>\n",
       "    <tr>\n",
       "      <th>4</th>\n",
       "      <td>5</td>\n",
       "      <td>55</td>\n",
       "      <td>50.166667</td>\n",
       "      <td>23.361111</td>\n",
       "      <td>0.465670</td>\n",
       "    </tr>\n",
       "    <tr>\n",
       "      <th>5</th>\n",
       "      <td>6</td>\n",
       "      <td>55</td>\n",
       "      <td>50.166667</td>\n",
       "      <td>23.361111</td>\n",
       "      <td>0.465670</td>\n",
       "    </tr>\n",
       "  </tbody>\n",
       "</table>\n",
       "</div>"
      ],
      "text/plain": [
       "   Face  Observed Frequency  Expected Frequency  Squared Difference  \\\n",
       "0     1                  39           50.166667          124.694444   \n",
       "1     2                  44           50.166667           38.027778   \n",
       "2     3                  48           50.166667            4.694444   \n",
       "3     4                  60           50.166667           96.694444   \n",
       "4     5                  55           50.166667           23.361111   \n",
       "5     6                  55           50.166667           23.361111   \n",
       "\n",
       "   Normalized Squared Difference  \n",
       "0                       2.485604  \n",
       "1                       0.758029  \n",
       "2                       0.093577  \n",
       "3                       1.927464  \n",
       "4                       0.465670  \n",
       "5                       0.465670  "
      ]
     },
     "metadata": {},
     "output_type": "display_data"
    },
    {
     "name": "stdout",
     "output_type": "stream",
     "text": [
      "X = ∑𝑂𝑖−𝐸)^2/𝐸 =  6.20\n"
     ]
    }
   ],
   "source": [
    "import pandas as pd\n",
    "\n",
    "def o_minus_e_sqrd(observed_freq, expected_freq):\n",
    "    o_minus_e_sqrd = []\n",
    "    for x, y in zip(observed_freq, expected_freq):\n",
    "        o_minus_e_sqrd.append((x - y) ** 2)       \n",
    "    return o_minus_e_sqrd\n",
    "\n",
    "\n",
    "def norm_o_minus_e_sqrd(observed_freq, expected_freq):\n",
    "    norm_o_minus_e_sqrd = []\n",
    "    for x, y in zip(observed_freq, expected_freq):\n",
    "        norm_o_minus_e_sqrd.append(((x - y) ** 2) / y)\n",
    "    return norm_o_minus_e_sqrd\n",
    "\n",
    "df = pd.DataFrame({'Face' : [i for i in range (1,7)],\n",
    "                   \n",
    "                   'Observed Frequency' : count_elements_dict.values(),\n",
    "                   \n",
    "                   'Expected Frequency' : [(1/6) * total_count for i in range(6)],\n",
    "                   \n",
    "                   'Squared Difference' : o_minus_e_sqrd(count_elements_dict.values(), \n",
    "                                                         [(1/6) * total_count for i in range(6)]),\n",
    "                   \n",
    "                   'Normalized Squared Difference' : norm_o_minus_e_sqrd(count_elements_dict.values(), \n",
    "                                                                         [(1/6) * total_count for i in range(6)])\n",
    "                   })\n",
    "\n",
    "Chi_squared_test = df['Normalized Squared Difference'].sum()  #summation of the column entries\n",
    "\n",
    "display(df)\n",
    "print(f'X = ∑𝑂𝑖−𝐸)^2/𝐸 =  {Chi_squared_test:.2f}') #formating the X value to have 2 decimal positions\n",
    "\n"
   ]
  },
  {
   "cell_type": "markdown",
   "metadata": {},
   "source": [
    "Computing X gave 6.2 which is quite close to k-1 = 5. This indicates the die is not too far off being fair"
   ]
  },
  {
   "cell_type": "markdown",
   "metadata": {},
   "source": [
    "# Problem 2"
   ]
  },
  {
   "cell_type": "markdown",
   "metadata": {},
   "source": [
    "### 2.1\n",
    " The following cell utilizes a function which was defined one cell later\n",
    " "
   ]
  },
  {
   "cell_type": "code",
   "execution_count": 48,
   "metadata": {},
   "outputs": [
    {
     "name": "stdout",
     "output_type": "stream",
     "text": [
      "16.24252491694352\n"
     ]
    }
   ],
   "source": [
    "print(stimulate_exp(301))"
   ]
  },
  {
   "cell_type": "markdown",
   "metadata": {},
   "source": [
    "### 2.2\n",
    "\n",
    "In the following cell I define a function which simulates the rolling of a die any given number of 'num_trials'. It then computes X and returns the Value of X. I then proceed to run this funtion 100 times, creating 100 experiments of 301 trials each.\n",
    "\n",
    "In order to create the observed frequences I use the randint function from the random module and create a psuedo random number ranging from 1-6 (endpoints included). I create the list of observes frequences by first preforming a list comprehension which is concise way to create lists in Python. It allows you to construct a new list by applying an expression to each item in an existing iterable (I have been using this method through out the cells). After the list comprehension I call a Counter() function which created a dicionnary with keys being 1 through 6 and the associated values being the number of observations for each key.\n",
    "\n",
    "In order to create the epected frequencies I simply preform a list comprehension and cause each element to be that whcih is expected of a fair die (value depends on the input 'num_trials')\n",
    "\n",
    "X is then computed by calling the previous defined function 'norm_o_minus_e_sqrd' and then summed() up\n",
    "\n",
    "Finally, I preform a final list comprehnsion of 100 trials to create a list of 100 values each containing the X value per expirement.\n",
    "\n"
   ]
  },
  {
   "cell_type": "code",
   "execution_count": 22,
   "metadata": {},
   "outputs": [
    {
     "name": "stdout",
     "output_type": "stream",
     "text": [
      "14.92\n",
      "12.28\n",
      "11.88\n",
      "11.56\n",
      "11.36\n",
      "11.28\n",
      "11.28\n",
      "11.16\n",
      "11.04\n",
      "10.96\n",
      "10.68\n",
      "10.40\n",
      "10.04\n",
      "10.00\n",
      "9.80\n",
      "9.80\n",
      "9.56\n",
      "8.92\n",
      "8.88\n",
      "8.72\n",
      "8.28\n",
      "8.08\n",
      "8.08\n",
      "7.88\n",
      "7.84\n",
      "7.80\n",
      "7.76\n",
      "7.52\n",
      "7.28\n",
      "7.12\n",
      "7.04\n",
      "6.88\n",
      "6.72\n",
      "6.52\n",
      "6.40\n",
      "6.32\n",
      "6.28\n",
      "6.08\n",
      "6.08\n",
      "6.04\n",
      "6.00\n",
      "5.84\n",
      "5.72\n",
      "5.56\n",
      "5.44\n",
      "5.16\n",
      "5.00\n",
      "4.96\n",
      "4.92\n",
      "4.72\n",
      "4.72\n",
      "4.60\n",
      "4.60\n",
      "4.60\n",
      "4.52\n",
      "4.48\n",
      "4.40\n",
      "4.32\n",
      "4.12\n",
      "4.04\n",
      "3.96\n",
      "3.88\n",
      "3.84\n",
      "3.84\n",
      "3.76\n",
      "3.76\n",
      "3.68\n",
      "3.64\n",
      "3.60\n",
      "3.56\n",
      "3.44\n",
      "3.40\n",
      "3.16\n",
      "3.12\n",
      "2.96\n",
      "2.96\n",
      "2.92\n",
      "2.80\n",
      "2.72\n",
      "2.52\n",
      "2.52\n",
      "2.40\n",
      "2.20\n",
      "2.12\n",
      "2.08\n",
      "2.04\n",
      "1.80\n",
      "1.76\n",
      "1.76\n",
      "1.72\n",
      "1.52\n",
      "1.48\n",
      "1.44\n",
      "1.44\n",
      "1.44\n",
      "1.28\n",
      "1.24\n",
      "1.16\n",
      "1.08\n",
      "1.08\n"
     ]
    }
   ],
   "source": [
    "import random\n",
    "from collections import Counter\n",
    "\n",
    "def stimulate_exp(num_trials):\n",
    "    observed_freq = Counter([random.randint(1,6) for i in range(num_trials)])\n",
    "    expected_freq = [(1/6) * num_trials for i in range(6)]\n",
    "    \n",
    "    X = sum(norm_o_minus_e_sqrd(observed_freq.values(), expected_freq))\n",
    "    \n",
    "    return X\n",
    "\n",
    "list_B_100exp = [stimulate_exp(300) for _ in range(100)]\n",
    "list_B_100exp.sort(reverse=True)\n",
    "    \n",
    "for num in list_B_100exp:\n",
    "    print(f'{num:.2f}')\n",
    "    \n",
    "        "
   ]
  },
  {
   "cell_type": "markdown",
   "metadata": {},
   "source": [
    "I then plot the histogram in 6 equally spaced out bins and plot the symbols of the mean of the simulated Xbs (denoted by o), the number of faces K (denoted by X), and the value from experiment 1 denoted by a upward facing triangle."
   ]
  },
  {
   "cell_type": "code",
   "execution_count": 47,
   "metadata": {},
   "outputs": [
    {
     "data": {
      "image/png": "[encoded data removed]",
      "text/plain": [
       "<Figure size 640x480 with 1 Axes>"
      ]
     },
     "metadata": {},
     "output_type": "display_data"
    }
   ],
   "source": [
    "plt.hist(list_B_100exp, bins=6, edgecolor='black')\n",
    "plt.title('Histogram of X')\n",
    "\n",
    "\n",
    "mean = sum(list_B_100exp) / len(list_B_100exp)\n",
    "k = 6\n",
    "X_prob_1 = Chi_squared_test\n",
    "\n",
    "values = [mean, k, X_prob_1]\n",
    "y_values = [1,2,3]\n",
    "symbols = ['o', 'X', '^']\n",
    "\n",
    "for value, y_value, symbol in zip(values, y_values, symbols):\n",
    "    plt.scatter(value, y_value, marker=symbol, facecolor='none', edgecolor='black', s=200, linewidths=1)\n",
    "\n",
    "\n",
    "plt.show()\n",
    "\n"
   ]
  },
  {
   "cell_type": "code",
   "execution_count": 49,
   "metadata": {},
   "outputs": [
    {
     "name": "stdout",
     "output_type": "stream",
     "text": [
      "[5.5532, 6, 6.196013289036545]\n"
     ]
    }
   ],
   "source": [
    "print(values)"
   ]
  },
  {
   "cell_type": "markdown",
   "metadata": {},
   "source": [
    "# Conclusion\n",
    "\n",
    "Upon conducting 100 simulated experiments and plotting the histogram of \\(X\\) values, it's observed that the majority of \\(X\\) occurrences fall within the bin range of 2.5 to 5. The mean (\\(\\bar{X_b}\\)) of these 100 \\(X_b\\) values is 5.5532, which is close to \\(k-1\\) (which is 5). The value of \\(X\\) from my physical experiment is 6.196013289036545, and the value of \\(k\\) is 6. \n",
    "\n",
    "Given the proximity of my physical experiment's \\(X\\) value to both \\(k\\) and the average of the simulated \\(X_b\\) values, it appears that my die is behaving fairly closely to a fair die in a statistical sense. However, the slight deviation of my physical \\(X\\) value from \\(k-1\\) and \\(k\\) does suggest there could be a minor bias, but it's within a reasonable range of the expected values for a fair die. \n",
    "\n",
    "Therefore, based on this analysis, there isn't strong evidence to suggest that my die is unfair, and it's reasonable to consider it as a fair die. Nonetheless, a more formal hypothesis testing could provide a more definitive conclusion regarding the fairness of the die."
   ]
  }
 ],
 "metadata": {
  "kernelspec": {
   "display_name": "Python 3",
   "language": "python",
   "name": "python3"
  },
  "language_info": {
   "codemirror_mode": {
    "name": "ipython",
    "version": 3
   },
   "file_extension": ".py",
   "mimetype": "text/x-python",
   "name": "python",
   "nbconvert_exporter": "python",
   "pygments_lexer": "ipython3",
   "version": "3.10.4"
  },
  "orig_nbformat": 4
 },
 "nbformat": 4,
 "nbformat_minor": 2
}
