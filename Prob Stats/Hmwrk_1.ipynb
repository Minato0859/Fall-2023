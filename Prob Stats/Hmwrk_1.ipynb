{
 "cells": [
  {
   "cell_type": "code",
   "execution_count": 9,
   "metadata": {},
   "outputs": [
    {
     "name": "stdout",
     "output_type": "stream",
     "text": [
      "[6, 1, 6, 4, 2, 4, 5, 6, 1, 5, 5, 6, 1, 3, 2, 3, 5, 1, 4, 3, 6, 6, 4, 4, 3, 3, 3, 5, 2, 4, 2, 2, 2, 5, 2, 2, 2, 6, 3, 6, 6, 1, 3, 5, 6, 4, 6, 1, 1, 2, 3, 1, 1, 3, 4, 5, 5, 4, 4, 4, 4, 3, 1, 3, 5, 6, 2, 6, 4, 5, 6, 1, 1, 6, 3, 2, 3, 1, 6, 1, 5, 1, 3, 5, 4, 5, 3, 4, 2, 3, 2, 5, 6, 1, 4, 6, 4, 6, 4, 3, 6, 6, 4, 3, 6, 2, 2, 1, 5, 2, 5, 1, 2, 5, 6, 6, 4, 4, 4, 4, 4, 2, 4, 5, 5, 4, 4, 4, 5, 5, 5, 3, 6, 6, 2, 3, 2, 6, 6, 4, 6, 5, 3, 4, 6, 2, 3, 2, 6, 6, 6, 3, 4, 3, 1, 3, 2, 5, 6, 4, 1, 2, 4, 2, 5, 2, 6, 1, 6, 4, 5, 5, 3, 3, 3, 3, 5, 4, 5, 5, 3, 6, 2, 3, 1, 6, 6, 4, 1, 1, 1, 1, 4, 5, 6, 4, 3, 4, 1, 2, 4, 3, 4, 5, 1, 5, 5, 5, 6, 4, 2, 5, 2, 3, 4, 2, 6, 3, 6, 4, 4, 4, 5, 6, 3, 4, 5, 2, 6, 1, 4, 5, 2, 3, 4, 2, 5, 1, 4, 1, 5, 1, 1, 3, 3, 2, 6, 2, 6, 5, 4, 1, 2, 5, 6, 5, 2, 4, 5, 6, 4, 2, 4, 1, 1, 3, 3, 5, 6, 6, 4, 6, 4, 3, 6, 5, 2, 3, 5, 3, 6, 3, 1, 3, 2, 5, 3, 5, 2, 4, 1, 4, 6, 5, 1, 2, 5, 5, 4, 5, 4]\n",
      "301\n"
     ]
    }
   ],
   "source": [
    "results = \"6164245615561323514366443335242225222636613564611231134554444313562645611632316151354534232561464643664362215251256644444245544455536623266465346232666343132564124252616455333354553623166411114564341243451555642523426364445634526145234251415113326265412565245642411335664643652353631325352414651255454\"\n",
    "results_list = []\n",
    "total_count = len(results)\n",
    "\n",
    "for char in results:\n",
    "    results_list.append(int(char))\n",
    "\n",
    "\n",
    "print(results_list)\n",
    "print(total_count)"
   ]
  },
  {
   "cell_type": "code",
   "execution_count": 10,
   "metadata": {},
   "outputs": [
    {
     "name": "stdout",
     "output_type": "stream",
     "text": [
      "{1: 39, 2: 44, 3: 48, 4: 60, 5: 55, 6: 55}\n"
     ]
    }
   ],
   "source": [
    "import numpy as np\n",
    "\n",
    "unique_elements, counts = np.unique(results_list, return_counts=True)\n",
    "\n",
    "count_elements_dict = dict(zip(unique_elements, counts))\n",
    "\n",
    "print(count_elements_dict)"
   ]
  },
  {
   "cell_type": "code",
   "execution_count": 25,
   "metadata": {},
   "outputs": [
    {
     "name": "stdout",
     "output_type": "stream",
     "text": [
      "[0.13, 0.146, 0.159, 0.199, 0.183, 0.183]\n",
      "1.0000000000000002\n"
     ]
    }
   ],
   "source": [
    "probability = []\n",
    "for i in count_elements_dict.values():\n",
    "    probability.append(round(i/total_count, 3))\n",
    "\n",
    "print(probability)\n",
    "print(sum(probability))"
   ]
  },
  {
   "cell_type": "code",
   "execution_count": 29,
   "metadata": {},
   "outputs": [
    {
     "data": {
      "image/png": "[encoded data removed]",
      "text/plain": [
       "<Figure size 640x480 with 1 Axes>"
      ]
     },
     "metadata": {},
     "output_type": "display_data"
    }
   ],
   "source": [
    "import matplotlib.pyplot as plt\n",
    "\n",
    "plt.bar(*zip(*count_elements_dict.items()))\n",
    "\n",
    "plt.title('Problem 1')\n",
    "plt.xlabel('Die')\n",
    "plt.ylabel('Frequency')\n",
    "\n",
    "plt.show()"
   ]
  },
  {
   "cell_type": "code",
   "execution_count": 35,
   "metadata": {},
   "outputs": [
    {
     "data": {
      "text/html": [
       "<div>\n",
       "<style scoped>\n",
       "    .dataframe tbody tr th:only-of-type {\n",
       "        vertical-align: middle;\n",
       "    }\n",
       "\n",
       "    .dataframe tbody tr th {\n",
       "        vertical-align: top;\n",
       "    }\n",
       "\n",
       "    .dataframe thead th {\n",
       "        text-align: right;\n",
       "    }\n",
       "</style>\n",
       "<table border=\"1\" class=\"dataframe\">\n",
       "  <thead>\n",
       "    <tr style=\"text-align: right;\">\n",
       "      <th></th>\n",
       "      <th>Face</th>\n",
       "      <th>Observed Frequency</th>\n",
       "      <th>Expected Frequency</th>\n",
       "    </tr>\n",
       "  </thead>\n",
       "  <tbody>\n",
       "    <tr>\n",
       "      <th>0</th>\n",
       "      <td>1</td>\n",
       "      <td>0.130</td>\n",
       "      <td>0.166667</td>\n",
       "    </tr>\n",
       "    <tr>\n",
       "      <th>1</th>\n",
       "      <td>2</td>\n",
       "      <td>0.146</td>\n",
       "      <td>0.166667</td>\n",
       "    </tr>\n",
       "    <tr>\n",
       "      <th>2</th>\n",
       "      <td>3</td>\n",
       "      <td>0.159</td>\n",
       "      <td>0.166667</td>\n",
       "    </tr>\n",
       "    <tr>\n",
       "      <th>3</th>\n",
       "      <td>4</td>\n",
       "      <td>0.199</td>\n",
       "      <td>0.166667</td>\n",
       "    </tr>\n",
       "    <tr>\n",
       "      <th>4</th>\n",
       "      <td>5</td>\n",
       "      <td>0.183</td>\n",
       "      <td>0.166667</td>\n",
       "    </tr>\n",
       "    <tr>\n",
       "      <th>5</th>\n",
       "      <td>6</td>\n",
       "      <td>0.183</td>\n",
       "      <td>0.166667</td>\n",
       "    </tr>\n",
       "  </tbody>\n",
       "</table>\n",
       "</div>"
      ],
      "text/plain": [
       "   Face  Observed Frequency  Expected Frequency\n",
       "0     1               0.130            0.166667\n",
       "1     2               0.146            0.166667\n",
       "2     3               0.159            0.166667\n",
       "3     4               0.199            0.166667\n",
       "4     5               0.183            0.166667\n",
       "5     6               0.183            0.166667"
      ]
     },
     "execution_count": 35,
     "metadata": {},
     "output_type": "execute_result"
    }
   ],
   "source": [
    "import pandas as pd\n",
    "\n",
    "df = pd.DataFrame({'Face' : [i for i in range (1,7)],\n",
    "                   'Observed Frequency' : probability,\n",
    "                   'Expected Frequency' : [1/6 for i in range(6)],\n",
    "                   \n",
    "                   })\n",
    "\n",
    "df"
   ]
  }
 ],
 "metadata": {
  "kernelspec": {
   "display_name": "Python 3",
   "language": "python",
   "name": "python3"
  },
  "language_info": {
   "codemirror_mode": {
    "name": "ipython",
    "version": 3
   },
   "file_extension": ".py",
   "mimetype": "text/x-python",
   "name": "python",
   "nbconvert_exporter": "python",
   "pygments_lexer": "ipython3",
   "version": "3.10.4"
  },
  "orig_nbformat": 4
 },
 "nbformat": 4,
 "nbformat_minor": 2
}
